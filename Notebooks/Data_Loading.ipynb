{
 "cells": [
  {
   "cell_type": "markdown",
   "id": "e4588797",
   "metadata": {},
   "source": [
    "# 1. Problem:\n",
    "\n",
    "“How can I optimize my listing to attract more bookings and maximize revenue?”\n",
    "\n",
    "# Causes for Analysis:\n",
    "\n",
    "Understand pricing trends to remain competitive.\n",
    "\n",
    "Identify high-demand neighborhoods.\n",
    "\n",
    "See how availability and minimum nights affect reviews and bookings.\n",
    "\n",
    "Learn from top-performing listings (e.g., review patterns, room types).\n",
    "\n"
   ]
  },
  {
   "cell_type": "code",
   "execution_count": 2,
   "id": "81337ecb",
   "metadata": {},
   "outputs": [],
   "source": [
    "import numpy as np\n",
    "import pandas as pd\n",
    "import os"
   ]
  },
  {
   "cell_type": "code",
   "execution_count": 3,
   "id": "7b47ad6f",
   "metadata": {},
   "outputs": [],
   "source": [
    "from pathlib import Path\n",
    "DATA_RAW = Path(r\"C:\\Users\\USER\\Desktop\\Cube\\Data_Science\\Project\\listings\\Data\\Raw\")\n",
    "listing = pd.read_csv(DATA_RAW / 'listings.csv')"
   ]
  },
  {
   "cell_type": "code",
   "execution_count": 24,
   "id": "64eceffe",
   "metadata": {},
   "outputs": [
    {
     "name": "stdout",
     "output_type": "stream",
     "text": [
      "Current directory: C:\\Users\\USER\\Desktop\\Cube\\Data_Science\\Project\\listings\\Data\\Raw\n",
      "Contents: [WindowsPath('C:/Users/USER/Desktop/Cube/Data_Science/Project/listings/config'), WindowsPath('C:/Users/USER/Desktop/Cube/Data_Science/Project/listings/Data'), WindowsPath('C:/Users/USER/Desktop/Cube/Data_Science/Project/listings/Listing 2.ipynb'), WindowsPath('C:/Users/USER/Desktop/Cube/Data_Science/Project/listings/Listing 3.ipynb'), WindowsPath('C:/Users/USER/Desktop/Cube/Data_Science/Project/listings/Listing.ipynb'), WindowsPath('C:/Users/USER/Desktop/Cube/Data_Science/Project/listings/Notebooks')]\n"
     ]
    }
   ],
   "source": [
    "from pathlib import Path\n",
    "print(\"Current directory:\", Path().resolve())\n",
    "print(\"Contents:\", list(Path().resolve().parent.parent.glob('*')))  # Should show config.py"
   ]
  },
  {
   "cell_type": "code",
   "execution_count": 4,
   "id": "b40b8ac6",
   "metadata": {},
   "outputs": [
    {
     "data": {
      "text/plain": [
       "(37434, 18)"
      ]
     },
     "execution_count": 4,
     "metadata": {},
     "output_type": "execute_result"
    }
   ],
   "source": [
    "listing.shape"
   ]
  },
  {
   "cell_type": "code",
   "execution_count": 5,
   "id": "55c1fde3",
   "metadata": {},
   "outputs": [
    {
     "data": {
      "text/plain": [
       "Index(['id', 'name', 'host_id', 'host_name', 'neighbourhood_group',\n",
       "       'neighbourhood', 'latitude', 'longitude', 'room_type', 'price',\n",
       "       'minimum_nights', 'number_of_reviews', 'last_review',\n",
       "       'reviews_per_month', 'calculated_host_listings_count',\n",
       "       'availability_365', 'number_of_reviews_ltm', 'license'],\n",
       "      dtype='object')"
      ]
     },
     "execution_count": 5,
     "metadata": {},
     "output_type": "execute_result"
    }
   ],
   "source": [
    "listing.columns"
   ]
  },
  {
   "cell_type": "code",
   "execution_count": 6,
   "id": "e137abb2",
   "metadata": {},
   "outputs": [
    {
     "name": "stdout",
     "output_type": "stream",
     "text": [
      "<class 'pandas.core.frame.DataFrame'>\n",
      "RangeIndex: 37434 entries, 0 to 37433\n",
      "Data columns (total 18 columns):\n",
      " #   Column                          Non-Null Count  Dtype  \n",
      "---  ------                          --------------  -----  \n",
      " 0   id                              37434 non-null  int64  \n",
      " 1   name                            37432 non-null  object \n",
      " 2   host_id                         37434 non-null  int64  \n",
      " 3   host_name                       37396 non-null  object \n",
      " 4   neighbourhood_group             37434 non-null  object \n",
      " 5   neighbourhood                   37434 non-null  object \n",
      " 6   latitude                        37434 non-null  float64\n",
      " 7   longitude                       37434 non-null  float64\n",
      " 8   room_type                       37434 non-null  object \n",
      " 9   price                           22308 non-null  float64\n",
      " 10  minimum_nights                  37434 non-null  int64  \n",
      " 11  number_of_reviews               37434 non-null  int64  \n",
      " 12  last_review                     25647 non-null  object \n",
      " 13  reviews_per_month               25647 non-null  float64\n",
      " 14  calculated_host_listings_count  37434 non-null  int64  \n",
      " 15  availability_365                37434 non-null  int64  \n",
      " 16  number_of_reviews_ltm           37434 non-null  int64  \n",
      " 17  license                         5369 non-null   object \n",
      "dtypes: float64(4), int64(7), object(7)\n",
      "memory usage: 5.1+ MB\n"
     ]
    }
   ],
   "source": [
    "listing.info()"
   ]
  },
  {
   "cell_type": "code",
   "execution_count": 7,
   "id": "fcc9a4f1",
   "metadata": {},
   "outputs": [
    {
     "data": {
      "text/plain": [
       "id                                    0\n",
       "name                                  2\n",
       "host_id                               0\n",
       "host_name                            38\n",
       "neighbourhood_group                   0\n",
       "neighbourhood                         0\n",
       "latitude                              0\n",
       "longitude                             0\n",
       "room_type                             0\n",
       "price                             15126\n",
       "minimum_nights                        0\n",
       "number_of_reviews                     0\n",
       "last_review                       11787\n",
       "reviews_per_month                 11787\n",
       "calculated_host_listings_count        0\n",
       "availability_365                      0\n",
       "number_of_reviews_ltm                 0\n",
       "license                           32065\n",
       "dtype: int64"
      ]
     },
     "execution_count": 7,
     "metadata": {},
     "output_type": "execute_result"
    }
   ],
   "source": [
    "listing.isnull().sum()"
   ]
  }
 ],
 "metadata": {
  "kernelspec": {
   "display_name": "Python 3",
   "language": "python",
   "name": "python3"
  },
  "language_info": {
   "codemirror_mode": {
    "name": "ipython",
    "version": 3
   },
   "file_extension": ".py",
   "mimetype": "text/x-python",
   "name": "python",
   "nbconvert_exporter": "python",
   "pygments_lexer": "ipython3",
   "version": "3.11.9"
  }
 },
 "nbformat": 4,
 "nbformat_minor": 5
}
